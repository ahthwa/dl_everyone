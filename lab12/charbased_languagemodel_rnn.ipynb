{
 "cells": [
  {
   "cell_type": "code",
   "execution_count": null,
   "metadata": {
    "collapsed": true
   },
   "outputs": [],
   "source": [
    "import tensorflow as tf\n",
    "import numpy as np\n"
   ]
  },
  {
   "cell_type": "code",
   "execution_count": null,
   "metadata": {
    "collapsed": true
   },
   "outputs": [],
   "source": [
    "char_rdic = ['h', 'e', 'l', 'o']\n",
    "char_dic = {w: i for i, w in enumerate(char_rdic)}\n",
    "x_data = np.array([ [1, 0, 0, 0],\n",
    "                  [0, 1, 0, 0],\n",
    "                  [0, 0, 1, 0], \n",
    "                  [0, 0, 1, 0]], dtype='f')\n",
    "sample = [char_dic[c] for c in 'hello']"
   ]
  },
  {
   "cell_type": "code",
   "execution_count": null,
   "metadata": {
    "collapsed": true
   },
   "outputs": [],
   "source": [
    "char_vocab_size = len(char_dic)\n",
    "rnn_size = char_vocab_size # 1 hot coding. one of 4\n",
    "time_step_size = 4 # 'hell' -> predict 'ello'\n",
    "batch_size = 1 # one sample"
   ]
  },
  {
   "cell_type": "code",
   "execution_count": null,
   "metadata": {
    "collapsed": false
   },
   "outputs": [],
   "source": [
    "rnn_cell = tf.contrib.rnn.BasicRNNCell(num_units = rnn_size)\n",
    "#rnn_cell = tf.contrib.rnn.BasicLSTMCell(rnn_size)\n",
    "#rnn_cell = tf.contrib.rnn.GRUCell(rnn_size)\n",
    "state = tf.zeros([batch_size, rnn_cell.state_size])\n",
    "X_split = tf.split(x_data, time_step_size, axis = 0)\n",
    "outputs, state = rnn_cell(X_split, state)\n",
    "\n",
    "# rnn_size = output의 vector size. num of classes(characters). 글자가 네종류면 4. \n",
    "# rnn의 time 갯수는 실행시킬 때 결정할 수 있다. 다섯 글자를 넣고 싶으면 다섯개를.\n",
    "# training 결과로 state 값이 만들어지는데 나중에 학습할 때 이 state를 다시 사용할 수 있다."
   ]
  },
  {
   "cell_type": "code",
   "execution_count": null,
   "metadata": {
    "collapsed": false
   },
   "outputs": [],
   "source": [
    "print(rnn_cell.state_size)\n",
    "print(rnn_cell.output_size)\n",
    "print(rnn_cell.zero_state)"
   ]
  },
  {
   "cell_type": "code",
   "execution_count": null,
   "metadata": {
    "collapsed": false
   },
   "outputs": [],
   "source": [
    "logits = tf.reshape(tf.concat(1, outputs), [-1, rnn_size])\n",
    "targets = tf.reshape(sample[1:], [-1])\n",
    "weights = tf.ones([time_step_size * batch_size])"
   ]
  },
  {
   "cell_type": "code",
   "execution_count": null,
   "metadata": {
    "collapsed": false
   },
   "outputs": [],
   "source": [
    "print(outputs)\n",
    "print(logits.get_shape())\n",
    "print(targets.get_shape())\n",
    "print(weights.get_shape())"
   ]
  },
  {
   "cell_type": "code",
   "execution_count": null,
   "metadata": {
    "collapsed": false
   },
   "outputs": [],
   "source": [
    "loss = tf.nn.seq2seq.sequence_loss_by_example([logits], [targets], [weights])\n",
    "cost = tf.reduce_sum(loss)/batch_size\n",
    "train_op = tf.train.RMSPropOptimizer(0.01, 0.9).minimize(cost)"
   ]
  },
  {
   "cell_type": "code",
   "execution_count": null,
   "metadata": {
    "collapsed": false
   },
   "outputs": [],
   "source": [
    "sess = tf.InteractiveSession()\n",
    "sess.run(tf.initialize_all_variables())"
   ]
  },
  {
   "cell_type": "code",
   "execution_count": null,
   "metadata": {
    "collapsed": false
   },
   "outputs": [],
   "source": [
    "for i in range(100):\n",
    "    sess.run(train_op)\n",
    "    result = sess.run(tf.arg_max(logits, 1))\n",
    "    print(sess.run(outputs))\n",
    "    print(sess.run(state))\n",
    "    print(result, [char_rdic[t] for t in result])\n",
    "    print('----')"
   ]
  },
  {
   "cell_type": "code",
   "execution_count": null,
   "metadata": {
    "collapsed": true
   },
   "outputs": [],
   "source": [
    "sess.close()"
   ]
  },
  {
   "cell_type": "code",
   "execution_count": null,
   "metadata": {
    "collapsed": true
   },
   "outputs": [],
   "source": []
  }
 ],
 "metadata": {
  "kernelspec": {
   "display_name": "Python 3",
   "language": "python",
   "name": "python3"
  },
  "language_info": {
   "codemirror_mode": {
    "name": "ipython",
    "version": 3
   },
   "file_extension": ".py",
   "mimetype": "text/x-python",
   "name": "python",
   "nbconvert_exporter": "python",
   "pygments_lexer": "ipython3",
   "version": "3.5.1"
  }
 },
 "nbformat": 4,
 "nbformat_minor": 0
}
