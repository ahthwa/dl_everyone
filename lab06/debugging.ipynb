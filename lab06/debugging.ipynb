{
 "cells": [
  {
   "cell_type": "code",
   "execution_count": 1,
   "metadata": {
    "collapsed": true
   },
   "outputs": [],
   "source": [
    "import tensorflow as tf\n",
    "import numpy as np"
   ]
  },
  {
   "cell_type": "code",
   "execution_count": 17,
   "metadata": {
    "collapsed": true
   },
   "outputs": [],
   "source": [
    "x_data = [[1., 1., 1., 1., 1., 1., 1., 1.],\n",
    "          [2., 3., 3., 5., 7., 2., 6., 7.],\n",
    "          [1., 2., 4., 5., 5., 5., 6., 7.]]\n",
    "y_data = [[0., 0., 0., 0., 0., 0., 1., 1.],\n",
    "          [0., 0., 0., 1., 1., 1., 0., 0.],\n",
    "          [1., 1., 1., 0., 0., 0., 0., 0.]]"
   ]
  },
  {
   "cell_type": "code",
   "execution_count": 4,
   "metadata": {
    "collapsed": false
   },
   "outputs": [
    {
     "name": "stdout",
     "output_type": "stream",
     "text": [
      "[[1, 1, 1, 1, 1, 1, 1, 1], [2, 3, 3, 5, 7, 2, 6, 7], [1, 2, 4, 5, 5, 5, 6, 7]]\n",
      "[[0, 0, 0, 0, 0, 0, 1, 1], [0, 0, 0, 1, 1, 1, 0, 0], [1, 1, 1, 0, 0, 0, 0, 0]]\n"
     ]
    }
   ],
   "source": [
    "print(x_data)\n",
    "print(y_data)"
   ]
  },
  {
   "cell_type": "code",
   "execution_count": 6,
   "metadata": {
    "collapsed": false
   },
   "outputs": [],
   "source": [
    "weight = [[ 0.84378982, -0.63257223,  0.84004235],\n",
    "          [ 0.19547772, -0.4945803,   0.56019384],\n",
    "          [-0.84074593, -0.09886688,  0.26566958]]"
   ]
  },
  {
   "cell_type": "code",
   "execution_count": 18,
   "metadata": {
    "collapsed": true
   },
   "outputs": [],
   "source": [
    "tf_x = tf.constant(x_data)\n",
    "tf_y = tf.constant(y_data)\n",
    "tf_w = tf.constant(weight)"
   ]
  },
  {
   "cell_type": "code",
   "execution_count": 14,
   "metadata": {
    "collapsed": true
   },
   "outputs": [],
   "source": [
    "sess = tf.InteractiveSession()"
   ]
  },
  {
   "cell_type": "code",
   "execution_count": 19,
   "metadata": {
    "collapsed": false
   },
   "outputs": [
    {
     "name": "stdout",
     "output_type": "stream",
     "text": [
      "[[ 1.  1.  1.  1.  1.  1.  1.  1.]\n",
      " [ 2.  3.  3.  5.  7.  2.  6.  7.]\n",
      " [ 1.  2.  4.  5.  5.  5.  6.  7.]]\n",
      "[[ 0.  0.  0.  0.  0.  0.  1.  1.]\n",
      " [ 0.  0.  0.  1.  1.  1.  0.  0.]\n",
      " [ 1.  1.  1.  0.  0.  0.  0.  0.]]\n",
      "[[ 0.84378982 -0.63257223  0.84004235]\n",
      " [ 0.19547772 -0.4945803   0.56019384]\n",
      " [-0.84074593 -0.09886688  0.26566958]]\n"
     ]
    }
   ],
   "source": [
    "print(sess.run(tf_x))\n",
    "print(sess.run(tf_y))\n",
    "print(sess.run(tf_w))"
   ]
  },
  {
   "cell_type": "code",
   "execution_count": 36,
   "metadata": {
    "collapsed": false
   },
   "outputs": [
    {
     "name": "stdout",
     "output_type": "stream",
     "text": [
      "(3, 8)\n"
     ]
    }
   ],
   "source": [
    "print(tf_x.get_shape())"
   ]
  },
  {
   "cell_type": "code",
   "execution_count": 24,
   "metadata": {
    "collapsed": false
   },
   "outputs": [
    {
     "name": "stdout",
     "output_type": "stream",
     "text": [
      "[[ 0.4186877   0.62615776  2.30624247  1.88114023  0.61599565  3.77885675\n",
      "   2.08861041  2.29608083]\n",
      " [-0.23348904 -0.16787553  0.95251215  0.52354527 -0.46561527  2.00728631\n",
      "   0.58915901  0.65477252]\n",
      " [-0.7728101  -0.60600734 -0.07466817 -0.00673246 -0.2044661   0.28986824\n",
      "   0.1600703   0.32687306]]\n"
     ]
    }
   ],
   "source": [
    "mult = sess.run(tf.matmul(tf_w, tf_x))\n",
    "print(mult)"
   ]
  },
  {
   "cell_type": "code",
   "execution_count": 35,
   "metadata": {
    "collapsed": false
   },
   "outputs": [
    {
     "name": "stdout",
     "output_type": "stream",
     "text": [
      "[[ 0.5480423   0.57350022  0.74033415  0.70988828  0.56202596  0.8329187\n",
      "   0.73066688  0.75002223]\n",
      " [ 0.2854811   0.2592324   0.19120981  0.18263921  0.19055429  0.1416509\n",
      "   0.16312328  0.14529912]\n",
      " [ 0.16647659  0.16726732  0.06845599  0.10747249  0.24741976  0.02543046\n",
      "   0.10620993  0.10467863]]\n"
     ]
    }
   ],
   "source": [
    "softm = sess.run(tf.nn.softmax(mult, dim=0))\n",
    "print(softm)"
   ]
  },
  {
   "cell_type": "code",
   "execution_count": 47,
   "metadata": {
    "collapsed": false
   },
   "outputs": [
    {
     "name": "stdout",
     "output_type": "stream",
     "text": [
      "[[ 0.          0.          0.          0.          0.          0.\n",
      "   0.31379765  0.28765243]\n",
      " [ 0.          0.          0.          1.70024252  1.65781808  1.95438969\n",
      "   0.          0.        ]\n",
      " [ 1.79290056  1.78816199  2.68156433  0.          0.          0.          0.\n",
      "   0.        ]]\n"
     ]
    }
   ],
   "source": [
    "costm = sess.run(- tf_y * tf.log(softm))\n",
    "print(costm)"
   ]
  },
  {
   "cell_type": "code",
   "execution_count": 48,
   "metadata": {
    "collapsed": false
   },
   "outputs": [
    {
     "data": {
      "text/plain": [
       "array([ 1.79290056,  1.78816199,  2.68156433,  1.70024252,  1.65781808,\n",
       "        1.95438969,  0.31379765,  0.28765243], dtype=float32)"
      ]
     },
     "execution_count": 48,
     "metadata": {},
     "output_type": "execute_result"
    }
   ],
   "source": [
    "sess.run(tf.reduce_sum(costm, 0))"
   ]
  },
  {
   "cell_type": "code",
   "execution_count": 49,
   "metadata": {
    "collapsed": false
   },
   "outputs": [
    {
     "data": {
      "text/plain": [
       "1.522066"
      ]
     },
     "execution_count": 49,
     "metadata": {},
     "output_type": "execute_result"
    }
   ],
   "source": [
    "sess.run(tf.reduce_mean(tf.reduce_sum(costm, 0)))"
   ]
  },
  {
   "cell_type": "code",
   "execution_count": 27,
   "metadata": {
    "collapsed": false
   },
   "outputs": [
    {
     "name": "stdout",
     "output_type": "stream",
     "text": [
      "[[ 0.5480423   0.2854811   0.16647659]\n",
      " [ 0.57350022  0.2592324   0.16726732]\n",
      " [ 0.74033415  0.19120981  0.06845599]\n",
      " [ 0.70988828  0.18263921  0.10747249]\n",
      " [ 0.56202596  0.19055429  0.24741976]\n",
      " [ 0.8329187   0.1416509   0.02543046]\n",
      " [ 0.73066688  0.16312328  0.10620993]\n",
      " [ 0.75002223  0.14529912  0.10467863]]\n"
     ]
    }
   ],
   "source": [
    "softm = sess.run(tf.nn.softmax(tf.transpose(mult)))\n",
    "print(softm)"
   ]
  },
  {
   "cell_type": "code",
   "execution_count": 23,
   "metadata": {
    "collapsed": false
   },
   "outputs": [
    {
     "data": {
      "text/plain": [
       "-0.23348903999999993"
      ]
     },
     "execution_count": 23,
     "metadata": {},
     "output_type": "execute_result"
    }
   ],
   "source": [
    "0.19547772 * 1 + (-0.4945803) * 2 + 0.56019384 * 1"
   ]
  },
  {
   "cell_type": "code",
   "execution_count": 31,
   "metadata": {
    "collapsed": false
   },
   "outputs": [
    {
     "data": {
      "text/plain": [
       "0.99999993"
      ]
     },
     "execution_count": 31,
     "metadata": {},
     "output_type": "execute_result"
    }
   ],
   "source": [
    "0.01817829 + 0.02236949 + 0.12003493 + 0.07846718 + 0.02214332 + 0.52342671 + 0.09655866 + 0.11882135"
   ]
  },
  {
   "cell_type": "code",
   "execution_count": 32,
   "metadata": {
    "collapsed": false
   },
   "outputs": [
    {
     "data": {
      "text/plain": [
       "0.9999999900000001"
      ]
     },
     "execution_count": 32,
     "metadata": {},
     "output_type": "execute_result"
    }
   ],
   "source": [
    "0.5480423 +  0.2854811 +  0.16647659"
   ]
  },
  {
   "cell_type": "code",
   "execution_count": null,
   "metadata": {
    "collapsed": true
   },
   "outputs": [],
   "source": []
  }
 ],
 "metadata": {
  "kernelspec": {
   "display_name": "Python 3",
   "language": "python",
   "name": "python3"
  },
  "language_info": {
   "codemirror_mode": {
    "name": "ipython",
    "version": 3
   },
   "file_extension": ".py",
   "mimetype": "text/x-python",
   "name": "python",
   "nbconvert_exporter": "python",
   "pygments_lexer": "ipython3",
   "version": "3.5.1"
  }
 },
 "nbformat": 4,
 "nbformat_minor": 0
}
