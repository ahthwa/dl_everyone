{
 "cells": [
  {
   "cell_type": "code",
   "execution_count": 1,
   "metadata": {
    "collapsed": true
   },
   "outputs": [],
   "source": [
    "import tensorflow as tf\n",
    "import numpy as np\n",
    "import input_data"
   ]
  },
  {
   "cell_type": "code",
   "execution_count": 2,
   "metadata": {
    "collapsed": true
   },
   "outputs": [],
   "source": [
    "keep_prob = tf.placeholder('float')\n",
    "learning_rate = 0.001 # 0.5 진동한다.\n",
    "training_epochs = 15\n",
    "batch_size = 100\n",
    "display_step = 1"
   ]
  },
  {
   "cell_type": "code",
   "execution_count": 3,
   "metadata": {
    "collapsed": false
   },
   "outputs": [
    {
     "name": "stdout",
     "output_type": "stream",
     "text": [
      "Extracting MNIST_DATA/train-images-idx3-ubyte.gz\n",
      "Extracting MNIST_DATA/train-labels-idx1-ubyte.gz\n",
      "Extracting MNIST_DATA/t10k-images-idx3-ubyte.gz\n"
     ]
    },
    {
     "name": "stderr",
     "output_type": "stream",
     "text": [
      "/usr/local/Cellar/python3/3.6.0/Frameworks/Python.framework/Versions/3.6/lib/python3.6/gzip.py:276: VisibleDeprecationWarning: converting an array with ndim > 0 to an index will result in an error in the future\n",
      "  return self._buffer.read(size)\n",
      "/Users/yjhong/Documents/work/2016/dl_everyone/lab10/input_data.py:35: VisibleDeprecationWarning: converting an array with ndim > 0 to an index will result in an error in the future\n",
      "  data = data.reshape(num_images, rows, cols, 1)\n"
     ]
    },
    {
     "name": "stdout",
     "output_type": "stream",
     "text": [
      "Extracting MNIST_DATA/t10k-labels-idx1-ubyte.gz\n"
     ]
    }
   ],
   "source": [
    "mnist = input_data.read_data_sets(\"MNIST_DATA/\", one_hot=True)"
   ]
  },
  {
   "cell_type": "markdown",
   "metadata": {},
   "source": [
    "## initialize vars - xavier initialize"
   ]
  },
  {
   "cell_type": "code",
   "execution_count": 4,
   "metadata": {
    "collapsed": true
   },
   "outputs": [],
   "source": [
    "def xavier_init(n_inputs, n_outputs, uniform=True):\n",
    "    if uniform:\n",
    "        init_range = tf.sqrt(6.0 / (n_inputs + n_outputs))\n",
    "        return tf.random_uniform_initializer(-init_range, init_range)\n",
    "    else:\n",
    "        stddev = tf.sqrt(3.0 / (n_inputs + n_outputs))\n",
    "        return tf.truncated_normal_initializer(stddev = stddev)\n",
    "\n",
    "X = tf.placeholder('float', [None, 784])\n",
    "Y = tf.placeholder('float', [None, 10])\n",
    "training = tf.placeholder('bool')\n",
    "\n",
    "W1 = tf.get_variable(\"W1\", shape=[784, 256], initializer = xavier_init(784, 256))\n",
    "b1 = tf.Variable(tf.random_normal([256]))\n",
    "W2 = tf.get_variable(\"W2\", shape=[256, 256], initializer = xavier_init(256, 256))\n",
    "b2 = tf.Variable(tf.random_normal([256]))\n",
    "W3 = tf.get_variable(\"W3\", shape=[256, 256], initializer = xavier_init(256, 256))\n",
    "b3 = tf.Variable(tf.random_normal([256]))\n",
    "W4 = tf.get_variable(\"W4\", shape=[256, 256], initializer = xavier_init(256, 256))\n",
    "b4 = tf.Variable(tf.random_normal([256]))\n",
    "W5 = tf.get_variable(\"W5\", shape=[256, 10], initializer = xavier_init(256, 10))\n",
    "b5 = tf.Variable(tf.random_normal([10]))\n"
   ]
  },
  {
   "cell_type": "markdown",
   "metadata": {},
   "source": [
    "### dropout"
   ]
  },
  {
   "cell_type": "code",
   "execution_count": 5,
   "metadata": {
    "collapsed": false
   },
   "outputs": [],
   "source": [
    "\n",
    "L1 = tf.nn.dropout(tf.nn.relu(tf.add(tf.matmul(X, W1), b1)), keep_prob)\n",
    "L2 = tf.nn.dropout(tf.nn.relu(tf.add(tf.matmul(L1, W2), b2)), keep_prob)\n",
    "L3 = tf.nn.dropout(tf.nn.relu(tf.add(tf.matmul(L2, W3), b3)), keep_prob)\n",
    "L4 = tf.nn.dropout(tf.nn.relu(tf.add(tf.matmul(L3, W4), b4)), keep_prob)\n",
    "'''\n",
    "# 모든 레이어마다 dropout을 해 줘야 하나? 마지막 layer만 해 주면 안되나?\n",
    "L1 = tf.nn.relu(tf.add(tf.matmul(X, W1), b1))\n",
    "L2 = tf.nn.relu(tf.add(tf.matmul(L1, W2), b2))\n",
    "L3 = tf.nn.relu(tf.add(tf.matmul(L2, W3), b3))\n",
    "L4 = tf.nn.relu(tf.add(tf.matmul(L3, W4), b4))\n",
    "'''\n",
    "\n",
    "y_ = tf.add(tf.matmul(L4, W5), b5)\n",
    "\n",
    "cost = tf.reduce_mean(tf.nn.softmax_cross_entropy_with_logits(y_, Y))\n",
    "optimizer = tf.train.AdamOptimizer(learning_rate = learning_rate).minimize(cost)"
   ]
  },
  {
   "cell_type": "markdown",
   "metadata": {},
   "source": [
    "### Batch Normalization"
   ]
  },
  {
   "cell_type": "code",
   "execution_count": null,
   "metadata": {
    "collapsed": false
   },
   "outputs": [],
   "source": [
    "L1 = tf.add(tf.matmul(X, W1), b1)\n",
    "L1 = tf.contrib.layers.batch_norm(L1, is_training = training, center=True, scale=True, activation_fn=tf.nn.relu, updates_collections=None, decay=0.9)\n",
    "L1 = tf.nn.relu(L1)\n",
    "L2 = tf.add(tf.matmul(L1, W2), b2)\n",
    "L2 = tf.contrib.layers.batch_norm(L2, is_training = training, center=True, scale=True, activation_fn=tf.nn.relu, updates_collections=None, decay=0.9)\n",
    "L2 = tf.nn.relu(L2)\n",
    "L3 = tf.add(tf.matmul(L2, W3), b3)\n",
    "L3 = tf.contrib.layers.batch_norm(L3, is_training = training, center=True, scale=True, activation_fn=tf.nn.relu, updates_collections=None, decay=0.9)\n",
    "L3 = tf.nn.relu(L3)\n",
    "L4 = tf.add(tf.matmul(L3, W4), b4)\n",
    "L4 = tf.contrib.layers.batch_norm(L4, is_training = training, center=True, scale=True, activation_fn=tf.nn.relu, updates_collections=None, decay=0.9)\n",
    "L4 = tf.nn.relu(L4)\n",
    "\n",
    "y_ = tf.add(tf.matmul(L4, W5), b5)\n",
    "\n",
    "cost = tf.reduce_mean(tf.nn.softmax_cross_entropy_with_logits(y_, Y))\n",
    "optimizer = tf.train.AdamOptimizer(learning_rate = learning_rate).minimize(cost)"
   ]
  },
  {
   "cell_type": "code",
   "execution_count": 6,
   "metadata": {
    "collapsed": true
   },
   "outputs": [],
   "source": [
    "correct_prediction = tf.equal(tf.argmax(y_, 1), tf.argmax(Y, 1))\n",
    "accuracy = tf.reduce_mean(tf.cast(correct_prediction, 'float'))"
   ]
  },
  {
   "cell_type": "code",
   "execution_count": 7,
   "metadata": {
    "collapsed": false
   },
   "outputs": [],
   "source": [
    "sess = tf.InteractiveSession()\n",
    "sess.run(tf.global_variables_initializer())"
   ]
  },
  {
   "cell_type": "code",
   "execution_count": 8,
   "metadata": {
    "collapsed": false,
    "scrolled": false
   },
   "outputs": [
    {
     "name": "stdout",
     "output_type": "stream",
     "text": [
      "Epoch: 0001 cost= 1.060816654\n",
      "Epoch: 0002 cost= 0.399496094\n",
      "Epoch: 0003 cost= 0.305033097\n",
      "Epoch: 0004 cost= 0.256682840\n",
      "Epoch: 0005 cost= 0.229955318\n",
      "Epoch: 0006 cost= 0.210138147\n",
      "Epoch: 0007 cost= 0.195983493\n",
      "Epoch: 0008 cost= 0.183697381\n",
      "Epoch: 0009 cost= 0.173968045\n",
      "Epoch: 0010 cost= 0.165770853\n",
      "Epoch: 0011 cost= 0.158796339\n",
      "Epoch: 0012 cost= 0.156630205\n",
      "Epoch: 0013 cost= 0.147133121\n",
      "Epoch: 0014 cost= 0.141484219\n",
      "Epoch: 0015 cost= 0.138041487\n",
      "Optimization Finished\n"
     ]
    }
   ],
   "source": [
    "for epoch in range(training_epochs):\n",
    "    avg_cost = 0.\n",
    "    total_batch = int(mnist.train.num_examples / batch_size)\n",
    "    for i in range(total_batch):\n",
    "        batch_xs, batch_ys = mnist.train.next_batch(batch_size)\n",
    "        cost_val, _ = sess.run([cost, optimizer], feed_dict = {X:batch_xs, Y:batch_ys, keep_prob: 0.5, training:True})\n",
    "        avg_cost += cost_val / total_batch\n",
    "    if (epoch % display_step == 0):\n",
    "        print(\"Epoch:\", '%04d' %(epoch + 1), \"cost=\", \"{:.9f}\".format(avg_cost))\n",
    "print(\"Optimization Finished\")"
   ]
  },
  {
   "cell_type": "code",
   "execution_count": 9,
   "metadata": {
    "collapsed": false
   },
   "outputs": [
    {
     "data": {
      "text/plain": [
       "0.9781"
      ]
     },
     "execution_count": 9,
     "metadata": {},
     "output_type": "execute_result"
    }
   ],
   "source": [
    "sess.run(accuracy, feed_dict={X:mnist.test.images, Y:mnist.test.labels, keep_prob:1., training:False})"
   ]
  },
  {
   "cell_type": "code",
   "execution_count": 10,
   "metadata": {
    "collapsed": true
   },
   "outputs": [],
   "source": [
    "sess.close()"
   ]
  },
  {
   "cell_type": "code",
   "execution_count": null,
   "metadata": {
    "collapsed": true
   },
   "outputs": [],
   "source": []
  }
 ],
 "metadata": {
  "kernelspec": {
   "display_name": "Python 3",
   "language": "python",
   "name": "python3"
  },
  "language_info": {
   "codemirror_mode": {
    "name": "ipython",
    "version": 3
   },
   "file_extension": ".py",
   "mimetype": "text/x-python",
   "name": "python",
   "nbconvert_exporter": "python",
   "pygments_lexer": "ipython3",
   "version": "3.6.0"
  }
 },
 "nbformat": 4,
 "nbformat_minor": 0
}
