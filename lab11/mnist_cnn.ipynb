{
 "cells": [
  {
   "cell_type": "code",
   "execution_count": null,
   "metadata": {
    "collapsed": true
   },
   "outputs": [],
   "source": [
    "import tensorflow as tf"
   ]
  },
  {
   "cell_type": "code",
   "execution_count": null,
   "metadata": {
    "collapsed": true
   },
   "outputs": [],
   "source": [
    "dropout_rate = tf.placeholder('float')\n",
    "learning_rate = 0.001 # 0.5 진동한다.\n",
    "training_epochs = 15\n",
    "batch_size = 100\n",
    "display_step = 1"
   ]
  },
  {
   "cell_type": "code",
   "execution_count": null,
   "metadata": {
    "collapsed": true
   },
   "outputs": [],
   "source": [
    "mnist = input_data.read_data_sets(\"MNIST_DATA/\", one_hot=True)"
   ]
  },
  {
   "cell_type": "code",
   "execution_count": null,
   "metadata": {
    "collapsed": false
   },
   "outputs": [],
   "source": [
    "# X = trX.reshape(-1, 28, 28, 1)\n",
    "\n",
    "X = tf.placeholder('float', [None, 28, 28, 1])\n",
    "Y = tf.placeholder('float', [None, 10])\n",
    "dropout_rate = tf.placeholder('float')\n",
    "\n",
    "W1 = tf.Variable(tf.random_normal([3, 3, 1, 32], stddev=0.01)) # define filter\n",
    "W2 = tf.Variable(tf.random_normal([3, 3, 32, 64], stddev=0.01))\n",
    "W3 = tf.Variable(tf.random_normal([3, 3, 64, 128], stddev=0.01))\n",
    "W4 = tf.Variable(tf.random_normal([128 * 4 * 4, 625], stddev=0.01))\n",
    "W_O = tf.Variable(tf.random_normal([625, 10], stddev=0.01))\n",
    "\n",
    "# padding: SAME = stride가 1일때 input과 동일한 크기의 output이 나오도록 padding을 붙인다.\n",
    "l1 = tf.nn.conv2d(X, W1, strides = [1, 1, 1, 1], padding='SAME') # [28, 28, 32]\n",
    "# print(l1) # for test\n",
    "l1 = tf.nn.relu(l1)\n",
    "# print(l1) # for test\n",
    "l1 = tf.nn.max_pool(l1, ksize=[1, 2, 2, 1], strides = [1, 2, 2, 1], padding = 'SAME')  # [14, 14, 32]\n",
    "# print(l1) # for test\n",
    "\n",
    "l2 = tf.nn.relu(tf.nn.conv2d(l1, W2, strides = [1, 1, 1, 1], padding='SAME')) # [14, 14, 64]\n",
    "l2 = tf.nn.max_pool(l2, ksize=[1, 2, 2, 1], strides = [1, 2, 2, 1], padding = 'SAME') # [7, 7, 64]\n",
    "#l2 = tf.nn.dropout(l2, dropout_rate)\n",
    "\n",
    "l3 = tf.nn.relu(tf.nn.conv2d(l2, W3, strides = [1, 1, 1, 1], padding='SAME')) # [7, 7, 128]\n",
    "l3 = tf.nn.max_pool(l3, ksize=[1, 2, 2, 1], strides = [1, 2, 2, 1], padding = 'SAME') # [4, 4, 128]\n",
    "\n",
    "l3 = tf.reshape(l3, [-1, W4.get_shape().as_list()[0]])\n",
    "#l3 = tf.nn.dropout(l3, dropout_rate)\n",
    "\n",
    "l4 = tf.nn.relu(tf.matmul(l3, W4))\n",
    "l4 = tf.nn.dropout(l4, dropout_rate)\n",
    "\n",
    "y_ = tf.matmul(l4, W_O)"
   ]
  },
  {
   "cell_type": "code",
   "execution_count": null,
   "metadata": {
    "collapsed": false
   },
   "outputs": [],
   "source": [
    "cost = tf.reduce_mean(tf.nn.softmax_cross_entropy_with_logits(y_, Y))\n",
    "train = tf.train.RMSPropOptimizer(0.001, 0.9).minimize(cost)\n",
    "predict = tf.argmax(y_, 1)\n"
   ]
  },
  {
   "cell_type": "code",
   "execution_count": null,
   "metadata": {
    "collapsed": true
   },
   "outputs": [],
   "source": [
    "sess = tf.InteractiveSession()\n",
    "sess.run(tf.initialize_all_variables())"
   ]
  },
  {
   "cell_type": "code",
   "execution_count": null,
   "metadata": {
    "collapsed": false
   },
   "outputs": [],
   "source": [
    "for i in range(100):\n",
    "    for start, end in zip(range(0, len(trX), 128), range(128, len(trX), 128)):\n",
    "        sess.run(train, feed_dict={X:trX[start:end], Y:trY[start:end], dropout_rate:0.8, })\n",
    "        test_indices = np.arange(len(teX))\n",
    "        np.random.shuffle(test_indices)\n",
    "        test_indices = test_indices[0:256]\n",
    "        \n",
    "        print(i, np.mean(np.argmax(teY[test_indices], axis=1) ==\n",
    "                         sess.run(predict,feed_dict={X:teX[test_indices], Y:teY[test_indices], dropout_rate:1.0})))"
   ]
  },
  {
   "cell_type": "code",
   "execution_count": null,
   "metadata": {
    "collapsed": true
   },
   "outputs": [],
   "source": [
    "sess.close()"
   ]
  }
 ],
 "metadata": {
  "kernelspec": {
   "display_name": "Python 3",
   "language": "python",
   "name": "python3"
  },
  "language_info": {
   "codemirror_mode": {
    "name": "ipython",
    "version": 3
   },
   "file_extension": ".py",
   "mimetype": "text/x-python",
   "name": "python",
   "nbconvert_exporter": "python",
   "pygments_lexer": "ipython3",
   "version": "3.5.2"
  }
 },
 "nbformat": 4,
 "nbformat_minor": 0
}
