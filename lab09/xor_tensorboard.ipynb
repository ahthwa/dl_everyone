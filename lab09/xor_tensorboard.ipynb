{
 "cells": [
  {
   "cell_type": "markdown",
   "metadata": {},
   "source": [
    "# XOR with tensorflow"
   ]
  },
  {
   "cell_type": "code",
   "execution_count": null,
   "metadata": {
    "collapsed": true
   },
   "outputs": [],
   "source": [
    "import tensorflow as tf\n",
    "import numpy as np\n",
    "import os"
   ]
  },
  {
   "cell_type": "code",
   "execution_count": null,
   "metadata": {
    "collapsed": true
   },
   "outputs": [],
   "source": [
    "xy = np.loadtxt('train.txt', unpack=True)\n",
    "x_data_source = xy[0:-1]\n",
    "y_data_source = xy[-1]"
   ]
  },
  {
   "cell_type": "markdown",
   "metadata": {},
   "source": [
    "## single layer models"
   ]
  },
  {
   "cell_type": "markdown",
   "metadata": {},
   "source": [
    "### model"
   ]
  },
  {
   "cell_type": "code",
   "execution_count": null,
   "metadata": {
    "collapsed": false
   },
   "outputs": [],
   "source": [
    "x_data = x_data_source\n",
    "y_data = y_data_source\n",
    "\n",
    "print(x_data)\n",
    "\n",
    "with tf.name_scope(\"SLP\"):\n",
    "    with tf.name_scope(\"model\"):\n",
    "        X = tf.placeholder(tf.float32, [3, None], name = 'input')\n",
    "        Y = tf.placeholder(tf.float32, name = 'expect')\n",
    "        W = tf.Variable(tf.random_uniform([1, x_data.shape[0]], -1.0, 1.0), name = 'weight-bias')\n",
    "        Y_ = tf.sigmoid(tf.matmul(W, X), name = 'predict')\n",
    "        tf.summary.histogram(\"weight-bias\", W)\n",
    "\n",
    "    with tf.name_scope(\"update\"):\n",
    "        cost = - tf.reduce_mean(Y * tf.log(Y_) + (1-Y)*tf.log(1-Y_), name = 'error')\n",
    "        alpha = 0.1\n",
    "        optimizer = tf.train.GradientDescentOptimizer(alpha)\n",
    "        train = optimizer.minimize(cost)\n",
    "        tf.summary.scalar('cost', cost)\n",
    "        embedding_var = tf.Variable(tf.zeros([1, x_data.shape[1]]), name = 'embd')\n",
    "        embedding_var.assign(Y_) # 1D matrix can't be seen on tensorboard\n",
    "\n",
    "    with tf.name_scope(\"evaluate\"):\n",
    "        correct_prediction = tf.equal(tf.floor(Y_ + 0.5), Y)\n",
    "        accuracy = tf.reduce_mean(tf.cast(correct_prediction, 'float'))\n",
    "        tf.summary.scalar(\"accuracy\", accuracy)"
   ]
  },
  {
   "cell_type": "markdown",
   "metadata": {},
   "source": [
    "## multilayer models"
   ]
  },
  {
   "cell_type": "markdown",
   "metadata": {},
   "source": [
    "### multilayer model 1 - row vector\n",
    "\n",
    "```\n",
    "Y [ 0.  1.  1.  0.]\n",
    "Y shape <unknown>\n",
    "log y [[-0.79689521]\n",
    " [-0.7082116 ]\n",
    " [-0.72524583]\n",
    " [-0.65353537]]\n",
    "log y shape (?, 1)\n",
    "```\n",
    "\n",
    "so Y * log(y\\_) = [4, 4]"
   ]
  },
  {
   "cell_type": "code",
   "execution_count": null,
   "metadata": {
    "collapsed": false
   },
   "outputs": [],
   "source": [
    "x_data = x_data_source.transpose()\n",
    "y_data = y_data_source.transpose()\n",
    "\n",
    "print(x_data)\n",
    "\n",
    "with tf.name_scope(\"MLP\"):\n",
    "    with tf.name_scope(\"layer1\"):\n",
    "        X = tf.placeholder(tf.float32, [None, 3], name = 'input')\n",
    "        Y = tf.placeholder(tf.float32, name = 'output')\n",
    "        W1 = tf.Variable(tf.random_uniform([3, 2], -1.0, 1.0), name = 'weight-bias-1')\n",
    "        l1 = tf.sigmoid(tf.matmul(X, W1), name = 'layer1')\n",
    "        tf.summary.histogram(\"weight-bias-1\", W1)\n",
    "\n",
    "    with tf.name_scope(\"layer2\"):\n",
    "        W2 = tf.Variable(tf.random_uniform([2, 1], -1.0, 1.0), name = 'weight-2')\n",
    "        b2 = tf.Variable(tf.random_uniform([1], -1.0, 1.0), name = 'bias-2')\n",
    "        Y_ = tf.sigmoid(tf.matmul(l1, W2) + b2, name = 'prediction')\n",
    "        tf.summary.histogram(\"weight-2\", W2)\n",
    "        tf.summary.histogram(\"bias-2\", b2)\n",
    "        tf.summary.histogram(\"prediction\", Y_)\n",
    "        embedding_var = tf.Variable(tf.zeros([x_data.shape[0], 2]), name = 'embd')\n",
    "        embedding_var.assign(l1)\n",
    "\n",
    "    with tf.name_scope(\"update\"):\n",
    "        # caution\n",
    "        # y_: [?, 1], Y: [1, ?]\n",
    "        # Y * y_: [num of data , num of data]\n",
    "        # Y * transpose(y_): [1, num of data]\n",
    "\n",
    "        cost = - tf.reduce_mean(Y * tf.transpose(tf.log(Y_)) + (1-Y) * tf.transpose(tf.log(1 - Y_)), name = 'cost')\n",
    "        alpha = 0.1\n",
    "        optimizer = tf.train.GradientDescentOptimizer(alpha)\n",
    "        train = optimizer.minimize(cost)\n",
    "        tf.summary.scalar('cost', cost)\n",
    "\n"
   ]
  },
  {
   "cell_type": "markdown",
   "metadata": {},
   "source": [
    "### multilayer model 2 - column vector\n",
    "\n",
    "```\n",
    "Y [ 0.  1.  1.  0.]\n",
    "Y shape <unknown>\n",
    "log y [[-0.86359024 -0.86644518 -0.86220801 -0.86514658]]\n",
    "log y shape (1, ?)\n",
    "```\n",
    "\n",
    "so Y * log(y\\_) = [1, 4]"
   ]
  },
  {
   "cell_type": "code",
   "execution_count": null,
   "metadata": {
    "collapsed": false
   },
   "outputs": [],
   "source": [
    "x_data = x_data_source\n",
    "y_data = y_data_source\n",
    "\n",
    "print(x_data)\n",
    "\n",
    "with tf.name_scope(\"MLP\"):\n",
    "    with tf.name_scope(\"layer1\"):\n",
    "        X = tf.placeholder(tf.float32, [3, None], name = 'input')\n",
    "        Y = tf.placeholder(tf.float32, name = 'output')\n",
    "        W1 = tf.Variable(tf.random_uniform([2, 3], -1.0, 1.0), name = 'weight-bias-1')\n",
    "        l1 = tf.sigmoid(tf.matmul(W1, X), name = 'layer-1')\n",
    "        tf.summary.histogram(\"weight-bias-1\", W1)\n",
    "        \n",
    "    with tf.name_scope(\"layer2\"):\n",
    "        W2 = tf.Variable(tf.random_uniform([1, 2], -1.0, 1.0), name = 'weight-2')\n",
    "        b2 = tf.Variable(tf.random_uniform([1], -1.0, 1.0), name = 'bias-2')\n",
    "        Y_ = tf.sigmoid(tf.matmul(W2, l1) + b2, name = 'prediction')\n",
    "        tf.summary.histogram(\"weight-2\", W2)\n",
    "        tf.summary.histogram(\"bias-2\", b2)\n",
    "        tf.summary.histogram(\"prediction\", Y_)\n",
    "        embedding_var = tf.Variable(tf.zeros([x_data.shape[1], 2]), name = 'embd')\n",
    "        embedding_var.assign(tf.transpose(l1))\n",
    "\n",
    "    with tf.name_scope(\"update\"):\n",
    "        cost = - tf.reduce_mean(Y * tf.log(Y_) + (1 - Y) * tf.log(1-Y_), name = 'cost')\n",
    "        alpha = 0.1\n",
    "        optimizer = tf.train.GradientDescentOptimizer(alpha)\n",
    "        train = optimizer.minimize(cost)\n",
    "        tf.summary.scalar('cost', cost)"
   ]
  },
  {
   "cell_type": "markdown",
   "metadata": {},
   "source": [
    "### wide model"
   ]
  },
  {
   "cell_type": "code",
   "execution_count": null,
   "metadata": {
    "collapsed": false
   },
   "outputs": [],
   "source": [
    "x_data = x_data_source\n",
    "y_data = y_data_source\n",
    "\n",
    "print(x_data)\n",
    "\n",
    "with tf.name_scope(\"MLP-wide\"):\n",
    "    with tf.name_scope(\"layer1\"):\n",
    "        X = tf.placeholder(tf.float32, [3, None], name = 'input')\n",
    "        Y = tf.placeholder(tf.float32, name = 'output')\n",
    "        W1 = tf.Variable(tf.random_uniform([10, 3], -1.0, 1.0), name = 'weight-bias-1')\n",
    "        l1 = tf.sigmoid(tf.matmul(W1, X), name = 'layer-1')\n",
    "        tf.summary.histogram(\"weight-bias-1\", W1)\n",
    "        \n",
    "    with tf.name_scope(\"layer2\"):\n",
    "        W2 = tf.Variable(tf.random_uniform([1, 10], -1.0, 1.0), name = 'weight-2')\n",
    "        b2 = tf.Variable(tf.random_uniform([1], -1.0, 1.0), name = 'bias-2')\n",
    "        Y_ = tf.sigmoid(tf.matmul(W2, l1) + b2, name = 'prediction')\n",
    "        tf.summary.histogram(\"weight-2\", W2)\n",
    "        tf.summary.histogram(\"bias-2\", b2)\n",
    "        tf.summary.histogram(\"prediction\", Y_)\n",
    "        embedding_var = tf.Variable(tf.zeros([x_data.shape[1], 10]), name = 'embd')\n",
    "        embedding_var.assign(tf.transpose(l1))\n",
    "\n",
    "    with tf.name_scope(\"update\"):\n",
    "        cost = - tf.reduce_mean(Y * tf.log(Y_) + (1 - Y) * tf.log(1-Y_), name = 'cost')\n",
    "        alpha = 0.1\n",
    "        optimizer = tf.train.GradientDescentOptimizer(alpha)\n",
    "        train = optimizer.minimize(cost)\n",
    "        tf.summary.scalar('cost', cost)\n"
   ]
  },
  {
   "cell_type": "markdown",
   "metadata": {
    "collapsed": true
   },
   "source": [
    "### deep model"
   ]
  },
  {
   "cell_type": "code",
   "execution_count": null,
   "metadata": {
    "collapsed": false,
    "scrolled": false
   },
   "outputs": [],
   "source": [
    "x_data = x_data_source\n",
    "y_data = y_data_source\n",
    "\n",
    "print(x_data)\n",
    "\n",
    "with tf.name_scope(\"MLP-wide\"):\n",
    "    with tf.name_scope(\"layer1\"):\n",
    "        X = tf.placeholder(tf.float32, [3, None], name = 'input')\n",
    "        Y = tf.placeholder(tf.float32, name = 'output')\n",
    "        W1 = tf.Variable(tf.random_uniform([6, 3], -1.0, 1.0), name = 'weight-bias-1')\n",
    "        l1 = tf.sigmoid(tf.matmul(W1, X), name = 'layer-1')\n",
    "        tf.summary.histogram(\"weight-bias-1\", W1)\n",
    "        \n",
    "    with tf.name_scope(\"layer2\"):\n",
    "        W2 = tf.Variable(tf.random_uniform([2, 6], -1.0, 1.0), name = 'weight-2')\n",
    "        b2 = tf.Variable(tf.random_uniform([2], -1.0, 1.0), name = 'bias-2')\n",
    "        \n",
    "        # broadcast bias. \n",
    "        #l2 = tf.sigmoid(tf.matmul(W2, l1) + b2, name = 'layer-2') # l2 -> (2, 2)\n",
    "        #l2 = tf.transpose(tf.sigmoid(tf.transpose(tf.matmul(W2, l1)) + b2, name = 'layer-2')) # l2 -> (2, ?) but trx, trx, ...\n",
    "        b2 = tf.reshape(b2, [2, -1]) # l2 -> (2, -1)\n",
    "        l2 = tf.sigmoid(tf.matmul(W2, l1) + b2, name = 'layer-2')\n",
    "        tf.summary.histogram(\"weight-2\", W2)\n",
    "        tf.summary.histogram(\"bias-2\", b2)\n",
    "        tf.summary.histogram(\"layer-2\", l2)\n",
    "\n",
    "    with tf.name_scope(\"layer3\"):\n",
    "        W3 = tf.Variable(tf.random_uniform([1, 2], -1.0, 1.0), name = 'weight-3')\n",
    "        b3 = tf.Variable(tf.random_uniform([1], -1.0, 1.0), name = 'bias-3')\n",
    "        Y_ = tf.sigmoid(tf.matmul(W3, l2) + b3, name = 'prediction')\n",
    "        tf.summary.histogram(\"weight-3\", W3)\n",
    "        tf.summary.histogram(\"bias-3\", b3)\n",
    "        tf.summary.histogram(\"prediction\", Y_)\n",
    "        embedding_var = tf.Variable(tf.zeros([x_data.shape[1], 2]), name = 'embd')\n",
    "        embedding_var.assign(tf.transpose(l2))\n",
    "\n",
    "    with tf.name_scope(\"update\"):\n",
    "        cost = - tf.reduce_mean(Y * tf.log(Y_) + (1 - Y) * tf.log(1-Y_), name = 'cost')\n",
    "        alpha = 0.1\n",
    "        optimizer = tf.train.GradientDescentOptimizer(alpha)\n",
    "        train = optimizer.minimize(cost)\n",
    "        tf.summary.scalar('cost', cost)\n",
    "        "
   ]
  },
  {
   "cell_type": "markdown",
   "metadata": {},
   "source": [
    "## evaluate"
   ]
  },
  {
   "cell_type": "code",
   "execution_count": null,
   "metadata": {
    "collapsed": false
   },
   "outputs": [],
   "source": [
    "with tf.name_scope(\"Evaluate\"):\n",
    "    correct_prediction = tf.equal(tf.floor(Y_ + 0.5), Y)\n",
    "    accuracy = tf.reduce_mean(tf.cast(correct_prediction, 'float'), name = 'accuracy')\n",
    "    tf.summary.scalar(\"accuracy\", accuracy)"
   ]
  },
  {
   "cell_type": "markdown",
   "metadata": {},
   "source": [
    "## learning"
   ]
  },
  {
   "cell_type": "code",
   "execution_count": null,
   "metadata": {
    "collapsed": true
   },
   "outputs": [],
   "source": [
    "%rm -rf xor_log"
   ]
  },
  {
   "cell_type": "code",
   "execution_count": null,
   "metadata": {
    "collapsed": true
   },
   "outputs": [],
   "source": [
    "summary_op = tf.summary.merge_all()\n",
    "writer = tf.summary.FileWriter(\"xor_log\")\n",
    "saver = tf.train.Saver()"
   ]
  },
  {
   "cell_type": "code",
   "execution_count": null,
   "metadata": {
    "collapsed": true
   },
   "outputs": [],
   "source": [
    "# embedding metadata - link label file\n",
    "from tensorflow.contrib.tensorboard.plugins import projector\n",
    "config = projector.ProjectorConfig()\n",
    "\n",
    "embedding = config.embeddings.add()\n",
    "embedding.tensor_name = embedding_var.name\n",
    "embedding.metadata_path = os.path.join(\"./\", 'metadata.tsv')\n",
    "\n",
    "projector.visualize_embeddings(writer, config)"
   ]
  },
  {
   "cell_type": "code",
   "execution_count": null,
   "metadata": {
    "collapsed": false,
    "scrolled": false
   },
   "outputs": [],
   "source": [
    "init = tf.global_variables_initializer()\n",
    "with tf.Session() as sess:\n",
    "    sess.run(init)\n",
    "    writer.add_graph(sess.graph)\n",
    "    for step in range(10000):\n",
    "        if (step % 1000 == 0):\n",
    "            run_options = tf.RunOptions(trace_level=tf.RunOptions.FULL_TRACE)\n",
    "            run_metadata = tf.RunMetadata()\n",
    "            summary, cost_val, _ = sess.run([summary_op, cost, train], feed_dict = {X:x_data, Y:y_data}, options = run_options, run_metadata=run_metadata)\n",
    "            writer.add_run_metadata(run_metadata, 'step%d' %step)\n",
    "            sess.run([embedding_var], feed_dict = {X:x_data})\n",
    "            print(\"step:\", step, \"cost:\", cost_val)\n",
    "            saver.save(sess, os.path.join(\"xor_log\", \"model.ckpt\"), step)\n",
    "        else:\n",
    "            summary, cost_val, _ = sess.run([summary_op, cost, train], feed_dict = {X:x_data, Y:y_data})\n",
    "        writer.add_summary(summary, step)\n",
    "    print(\"accuracy:\", sess.run([accuracy], feed_dict = {X:x_data, Y:y_data}))\n",
    "\n"
   ]
  },
  {
   "cell_type": "code",
   "execution_count": null,
   "metadata": {
    "collapsed": false,
    "scrolled": true
   },
   "outputs": [],
   "source": [
    "!tensorboard --log=xor_log"
   ]
  },
  {
   "cell_type": "code",
   "execution_count": null,
   "metadata": {
    "collapsed": false
   },
   "outputs": [],
   "source": []
  }
 ],
 "metadata": {
  "kernelspec": {
   "display_name": "Python 3",
   "language": "python",
   "name": "python3"
  },
  "language_info": {
   "codemirror_mode": {
    "name": "ipython",
    "version": 3
   },
   "file_extension": ".py",
   "mimetype": "text/x-python",
   "name": "python",
   "nbconvert_exporter": "python",
   "pygments_lexer": "ipython3",
   "version": "3.6.0"
  }
 },
 "nbformat": 4,
 "nbformat_minor": 2
}
