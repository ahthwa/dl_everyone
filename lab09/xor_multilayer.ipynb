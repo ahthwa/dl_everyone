{
 "cells": [
  {
   "cell_type": "code",
   "execution_count": null,
   "metadata": {
    "collapsed": true
   },
   "outputs": [],
   "source": [
    "import tensorflow as tf\n",
    "import numpy as np"
   ]
  },
  {
   "cell_type": "code",
   "execution_count": null,
   "metadata": {
    "collapsed": true
   },
   "outputs": [],
   "source": [
    "xy = np.loadtxt('train.txt', unpack=True)\n",
    "x_data = xy[0:-1]\n",
    "y_data = xy[-1]"
   ]
  },
  {
   "cell_type": "code",
   "execution_count": null,
   "metadata": {
    "collapsed": true
   },
   "outputs": [],
   "source": [
    "X = tf.placeholder(tf.float32, [3, None])\n",
    "Y = tf.placeholder(tf.float32)"
   ]
  },
  {
   "cell_type": "code",
   "execution_count": null,
   "metadata": {
    "collapsed": false
   },
   "outputs": [],
   "source": [
    "W1 = tf.Variable(tf.random_uniform([2, 3], -1.0, 1.0))\n",
    "W2 = tf.Variable(tf.random_uniform([1, 2], -1.0, 1.0))\n",
    "b2 = tf.Variable(tf.zeros([1]))"
   ]
  },
  {
   "cell_type": "code",
   "execution_count": null,
   "metadata": {
    "collapsed": true
   },
   "outputs": [],
   "source": [
    "l1 = tf.div(1., 1. + tf.exp( - (tf.matmul(W1, X))))\n",
    "y_ = tf.div(1., 1. + tf.exp( - (tf.matmul(W2, l1) + b2)))"
   ]
  },
  {
   "cell_type": "code",
   "execution_count": null,
   "metadata": {
    "collapsed": true
   },
   "outputs": [],
   "source": [
    "cost = -tf.reduce_mean(Y * tf.log(y_) + (1-Y) * tf.log(1-y_))\n",
    "alpha = 0.1\n",
    "optimizer = tf.train.GradientDescentOptimizer(alpha)\n",
    "train = optimizer.minimize(cost)\n"
   ]
  },
  {
   "cell_type": "code",
   "execution_count": null,
   "metadata": {
    "collapsed": true
   },
   "outputs": [],
   "source": [
    "init = tf.initialize_all_variables()"
   ]
  },
  {
   "cell_type": "code",
   "execution_count": null,
   "metadata": {
    "collapsed": true
   },
   "outputs": [],
   "source": [
    "sess = tf.InteractiveSession()\n",
    "sess.run(init)"
   ]
  },
  {
   "cell_type": "code",
   "execution_count": null,
   "metadata": {
    "collapsed": false,
    "scrolled": true
   },
   "outputs": [],
   "source": [
    "for step in range(1001):\n",
    "    cost_val, weight1_val, weight2_val, _ = sess.run([cost, W1, W2, train], feed_dict = {X:x_data, Y:y_data})\n",
    "    if (step % 20 == 0):\n",
    "        print(step, cost_val, weight1_val, weight2_val)\n",
    "correct_prediction = tf.equal(tf.floor(y_ + 0.5), Y)\n",
    "accuracy = tf.reduce_mean(tf.cast(correct_prediction, 'float'))\n",
    "print(sess.run([y_, tf.floor(y_ + 0.5), correct_prediction, accuracy], feed_dict={X:x_data, Y:y_data}))"
   ]
  },
  {
   "cell_type": "code",
   "execution_count": null,
   "metadata": {
    "collapsed": false
   },
   "outputs": [],
   "source": [
    "print(W1.get_shape())\n",
    "print(X.get_shape())\n",
    "print(l1.get_shape())\n",
    "print(W2.get_shape())\n",
    "print(b2.get_shape())\n",
    "print(y_.get_shape())\n",
    "\n",
    "print(sess.run(b2))\n",
    "print(cost)"
   ]
  },
  {
   "cell_type": "code",
   "execution_count": null,
   "metadata": {
    "collapsed": true
   },
   "outputs": [],
   "source": [
    "sess.close()"
   ]
  }
 ],
 "metadata": {
  "kernelspec": {
   "display_name": "Python 3",
   "language": "python",
   "name": "python3"
  },
  "language_info": {
   "codemirror_mode": {
    "name": "ipython",
    "version": 3
   },
   "file_extension": ".py",
   "mimetype": "text/x-python",
   "name": "python",
   "nbconvert_exporter": "python",
   "pygments_lexer": "ipython3",
   "version": "3.6.0"
  }
 },
 "nbformat": 4,
 "nbformat_minor": 0
}
